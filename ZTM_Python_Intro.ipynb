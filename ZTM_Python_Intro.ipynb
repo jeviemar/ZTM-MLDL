{
  "nbformat": 4,
  "nbformat_minor": 0,
  "metadata": {
    "colab": {
      "name": "ZTM - Python Intro.ipynb",
      "provenance": [],
      "collapsed_sections": [],
      "authorship_tag": "ABX9TyOsiccrqH2g4LHOTDftY0Vk",
      "include_colab_link": true
    },
    "kernelspec": {
      "name": "python3",
      "display_name": "Python 3"
    }
  },
  "cells": [
    {
      "cell_type": "markdown",
      "metadata": {
        "id": "view-in-github",
        "colab_type": "text"
      },
      "source": [
        "<a href=\"https://colab.research.google.com/github/jeviemar/ZTM-MLDL/blob/master/ZTM_Python_Intro.ipynb\" target=\"_parent\"><img src=\"https://colab.research.google.com/assets/colab-badge.svg\" alt=\"Open In Colab\"/></a>"
      ]
    },
    {
      "cell_type": "markdown",
      "metadata": {
        "id": "ZS9qZAJrae7L",
        "colab_type": "text"
      },
      "source": [
        "What is a programming language?\n",
        "<br>\n"
      ]
    },
    {
      "cell_type": "markdown",
      "metadata": {
        "id": "s9AdYljiauQK",
        "colab_type": "text"
      },
      "source": [
        "- convert/translate a code to machine readable language.\n"
      ]
    },
    {
      "cell_type": "markdown",
      "metadata": {
        "id": "onvFTAgwbBYp",
        "colab_type": "text"
      },
      "source": [
        "Compile files  translators"
      ]
    },
    {
      "cell_type": "code",
      "metadata": {
        "id": "6DwSkQaebJOs",
        "colab_type": "code",
        "colab": {}
      },
      "source": [
        "## Interpter - execute instructions\n",
        "## Compiler - translate the source code to machine code"
      ],
      "execution_count": 0,
      "outputs": []
    },
    {
      "cell_type": "code",
      "metadata": {
        "id": "a1wadVH8bpBJ",
        "colab_type": "code",
        "outputId": "7d152100-1f99-4c77-db53-19169a249358",
        "colab": {
          "base_uri": "https://localhost:8080/",
          "height": 34
        }
      },
      "source": [
        "print (\"Hello World\")"
      ],
      "execution_count": 0,
      "outputs": [
        {
          "output_type": "stream",
          "text": [
            "Hello World\n"
          ],
          "name": "stdout"
        }
      ]
    },
    {
      "cell_type": "code",
      "metadata": {
        "id": "nwyS3D6tb7oH",
        "colab_type": "code",
        "colab": {}
      },
      "source": [
        "## Python Interpreter - downloaded to python org.\n",
        "\n",
        "## All the programing languages tells the machine to do things.\n",
        "\n",
        "## cpython - interprets our python code. - interpreter\n",
        "##         - creates bytecode -- machine code(almost) -->cpython vm -->machine code\n",
        "\n",
        "# Python SDK = Interpreter + cpython vm\n",
        "\n"
      ],
      "execution_count": 0,
      "outputs": []
    },
    {
      "cell_type": "markdown",
      "metadata": {
        "id": "CtKmkLsNdnrj",
        "colab_type": "text"
      },
      "source": [
        "How to run Python Code :"
      ]
    },
    {
      "cell_type": "code",
      "metadata": {
        "id": "kTXI4OEEdrWi",
        "colab_type": "code",
        "colab": {}
      },
      "source": [
        "## 1. Download Python\n",
        "## 2. Terminal (cmd/terminal)\n",
        "## 3. Code Editor(atom/sublime text/visual studio)\n",
        "## 4. IDEs (Pycharm/Spyder)\n",
        "## 5. Notebooks(Jupyter)\n",
        "\n",
        "## Online Coding with Python\n",
        "## ------------------------\n",
        "## 1. repl.it =  github connection + folders\n",
        "## 2. Google Collaborator =  github and gdrive connection\n",
        "## 3. glot.io\n"
      ],
      "execution_count": 0,
      "outputs": []
    },
    {
      "cell_type": "code",
      "metadata": {
        "id": "q5IkJanee3Rw",
        "colab_type": "code",
        "outputId": "bce85971-3cc2-4164-ac93-38a81be1d0c2",
        "colab": {
          "base_uri": "https://localhost:8080/",
          "height": 51
        }
      },
      "source": [
        "## Code Number 1\n",
        "## Funtions - print ()\n",
        "## any file with .py = is a python program\n",
        "## main.py ---> interpreter ---> bytecode ---> cypython vm ---> machine code\n",
        "\n",
        "print (\"Hello World\")\n",
        "print ('Can also do single quote')"
      ],
      "execution_count": 0,
      "outputs": [
        {
          "output_type": "stream",
          "text": [
            "Hello World\n",
            "Can also do single quote\n"
          ],
          "name": "stdout"
        }
      ]
    },
    {
      "cell_type": "code",
      "metadata": {
        "id": "wPKoHNSrfJYk",
        "colab_type": "code",
        "outputId": "2f22088a-61d0-4020-f046-fd81af89d8ff",
        "colab": {
          "base_uri": "https://localhost:8080/",
          "height": 51
        }
      },
      "source": [
        "## input - ask for input/capture information / store information\n",
        "\n",
        "input('What is your name? :')"
      ],
      "execution_count": 0,
      "outputs": [
        {
          "output_type": "stream",
          "text": [
            "What is your name? :jevie\n"
          ],
          "name": "stdout"
        },
        {
          "output_type": "execute_result",
          "data": {
            "text/plain": [
              "'jevie'"
            ]
          },
          "metadata": {
            "tags": []
          },
          "execution_count": 8
        }
      ]
    },
    {
      "cell_type": "code",
      "metadata": {
        "id": "u-wcr4ZHf6Cw",
        "colab_type": "code",
        "outputId": "e3137890-3ef8-4a76-8fc0-0a81e1276349",
        "colab": {
          "base_uri": "https://localhost:8080/",
          "height": 34
        }
      },
      "source": [
        "## Assigning name to a variable\n",
        "\n",
        "firstname = input(\"What is your firstname? \")"
      ],
      "execution_count": 0,
      "outputs": [
        {
          "output_type": "stream",
          "text": [
            "What is your firstname? jevi\n"
          ],
          "name": "stdout"
        }
      ]
    },
    {
      "cell_type": "code",
      "metadata": {
        "id": "24a5b5HYgM81",
        "colab_type": "code",
        "outputId": "bcde6958-54aa-4e99-82dd-1e45c69f1d91",
        "colab": {
          "base_uri": "https://localhost:8080/",
          "height": 34
        }
      },
      "source": [
        "print(firstname)"
      ],
      "execution_count": 0,
      "outputs": [
        {
          "output_type": "stream",
          "text": [
            "jevi\n"
          ],
          "name": "stdout"
        }
      ]
    },
    {
      "cell_type": "code",
      "metadata": {
        "id": "7nSqw7s0gTGU",
        "colab_type": "code",
        "outputId": "a44f1ad3-456e-4df1-f66c-89a6e81e44ef",
        "colab": {
          "base_uri": "https://localhost:8080/",
          "height": 34
        }
      },
      "source": [
        "## concatenating\n",
        "\n",
        "print (\"Hey \" + firstname)"
      ],
      "execution_count": 0,
      "outputs": [
        {
          "output_type": "stream",
          "text": [
            "Hey jevi\n"
          ],
          "name": "stdout"
        }
      ]
    },
    {
      "cell_type": "markdown",
      "metadata": {
        "id": "fTs5JNyRgzRS",
        "colab_type": "text"
      },
      "source": [
        "Python 2 v Python 3\n",
        "<br>\n",
        "- programming languages are evolving"
      ]
    },
    {
      "cell_type": "code",
      "metadata": {
        "id": "cCR-bpOZg-fj",
        "colab_type": "code",
        "colab": {}
      },
      "source": [
        "## The story of Python - Guido van Rossum (1994)\n",
        "## 2008 - Python 2 ---> Python 3 (Updates/Upgrades)\n",
        "## Some companies didn't migrate and aren't big changes - 2.0 (Legacy/No Support soon)\n",
        "## --------------------------\n",
        "## CWI - research lab for doing advance math\n",
        "## ABC Project - language design / unsuccessfull\n",
        "## Amiba - distributed system (shell script and c program)\n",
        "## ---------------------------\n",
        "## Create a programming as more easier to use and concise but without properties\n",
        "## Create an interpreter - 3 months to more\n",
        "## Python became - as opensource --> Python Communty and spread the word.\n",
        "## Video - https://www.youtube.com/watch?v=J0Aq44Pze-w\n",
        "## ---------------------------\n",
        "## For more info : Python Documentation (Ussually Python 3.xxx)"
      ],
      "execution_count": 0,
      "outputs": []
    },
    {
      "cell_type": "code",
      "metadata": {
        "id": "TLkQ4nnmkbvf",
        "colab_type": "code",
        "colab": {}
      },
      "source": [
        "## Learning a Language\n",
        "## 1. Terms (Statements/variables/instatntiations)\n",
        "## 2. Data Types = values (symbols)\n",
        "## 3. Actions = tell our machine what to do - store or retrieve a data\n",
        "## 4. Best Practices (Solid Structure and a solid program)"
      ],
      "execution_count": 0,
      "outputs": []
    },
    {
      "cell_type": "markdown",
      "metadata": {
        "id": "ZpyeCLvHmkjw",
        "colab_type": "text"
      },
      "source": [
        "Data Types"
      ]
    },
    {
      "cell_type": "code",
      "metadata": {
        "id": "f4GNt4z5mqB8",
        "colab_type": "code",
        "colab": {}
      },
      "source": [
        "## Data Types (Values) - storing and modifying info\n",
        "\n",
        "# FUNDAMENTAL DATA TYPES\n",
        "# float - decimal\n",
        "# int - integer - numbers\n",
        "# bool - boolean\n",
        "# str - string - letters\n",
        "# list - list\n",
        "# tuple\n",
        "# set\n",
        "# dict\n",
        "# ---------------------\n",
        "## CLASSES --> custom types\n",
        "# ---------------------\n",
        "# create / remove / modify data via actions\n",
        "# ---------------------\n",
        "## SPECIALIZED DATA TYPES\n",
        "# special packages and modules\n",
        "# extra boost - if not on standard data types\n",
        "# extensions\n",
        "# --------------------\n",
        "# NONE (none) - no value"
      ],
      "execution_count": 0,
      "outputs": []
    },
    {
      "cell_type": "code",
      "metadata": {
        "id": "t-_PgqLXnsaI",
        "colab_type": "code",
        "outputId": "33a39394-5f9d-4f54-bd99-e5e9b5bde8ab",
        "colab": {
          "base_uri": "https://localhost:8080/",
          "height": 102
        }
      },
      "source": [
        "# Integers - whole numbers\n",
        "print (2 + 4)\n",
        "print (2 - 4)\n",
        "print (2 * 4)\n",
        "print (2 / 4)\n",
        "print (type(2 + 4)) #tells the datatype of a data"
      ],
      "execution_count": 0,
      "outputs": [
        {
          "output_type": "stream",
          "text": [
            "6\n",
            "-2\n",
            "8\n",
            "0.5\n",
            "<class 'int'>\n"
          ],
          "name": "stdout"
        }
      ]
    },
    {
      "cell_type": "code",
      "metadata": {
        "id": "YS_7JnH4oHrX",
        "colab_type": "code",
        "outputId": "3369cd55-2676-47db-d4ab-0d0cf879c3ac",
        "colab": {
          "base_uri": "https://localhost:8080/",
          "height": 34
        }
      },
      "source": [
        "# Float - a number with a decimal number = decimal point\n",
        "print(type(5.0))"
      ],
      "execution_count": 0,
      "outputs": [
        {
          "output_type": "stream",
          "text": [
            "<class 'float'>\n"
          ],
          "name": "stdout"
        }
      ]
    },
    {
      "cell_type": "code",
      "metadata": {
        "id": "qN6fwXLEpDvW",
        "colab_type": "code",
        "outputId": "160e8ca3-ba37-4f13-fc52-9d264c978209",
        "colab": {
          "base_uri": "https://localhost:8080/",
          "height": 51
        }
      },
      "source": [
        "# float takes up more space than integer that is why needed to indicate\n",
        "print(2/4) # should be decimal \n",
        "print(2.0/4.0)"
      ],
      "execution_count": 0,
      "outputs": [
        {
          "output_type": "stream",
          "text": [
            "0.5\n",
            "0.5\n"
          ],
          "name": "stdout"
        }
      ]
    },
    {
      "cell_type": "code",
      "metadata": {
        "id": "I1vxLGXOpWuK",
        "colab_type": "code",
        "outputId": "730b71b8-1219-4c98-ffaa-5eaffa3d4b24",
        "colab": {
          "base_uri": "https://localhost:8080/",
          "height": 34
        }
      },
      "source": [
        "print (9.99+1.1)"
      ],
      "execution_count": 0,
      "outputs": [
        {
          "output_type": "stream",
          "text": [
            "11.09\n"
          ],
          "name": "stdout"
        }
      ]
    },
    {
      "cell_type": "code",
      "metadata": {
        "id": "P_SbfXFxp4IX",
        "colab_type": "code",
        "outputId": "25710988-fbc2-4196-b25b-cd4f673c5f67",
        "colab": {
          "base_uri": "https://localhost:8080/",
          "height": 34
        }
      },
      "source": [
        "## double multiply or to the power of\n",
        "\n",
        "print (2 * 2 * 2)"
      ],
      "execution_count": 0,
      "outputs": [
        {
          "output_type": "stream",
          "text": [
            "8\n"
          ],
          "name": "stdout"
        }
      ]
    },
    {
      "cell_type": "code",
      "metadata": {
        "id": "lzm5WPNCp-c0",
        "colab_type": "code",
        "outputId": "6a290c4f-3291-4536-8369-7223e3d38512",
        "colab": {
          "base_uri": "https://localhost:8080/",
          "height": 51
        }
      },
      "source": [
        "print (2 // 4) # return an integer rounded down\n",
        "print (5 % 4) # gets the remainder - modulo"
      ],
      "execution_count": 0,
      "outputs": [
        {
          "output_type": "stream",
          "text": [
            "0\n",
            "1\n"
          ],
          "name": "stdout"
        }
      ]
    },
    {
      "cell_type": "code",
      "metadata": {
        "id": "xt71dXwSqCiP",
        "colab_type": "code",
        "outputId": "72c6886a-3424-47b8-cd34-5a2e8fea7441",
        "colab": {
          "base_uri": "https://localhost:8080/",
          "height": 51
        }
      },
      "source": [
        "# Specific Math Usage / Functions or actions\n",
        "print(round(3.9)) # round down a number\n",
        "\n",
        "print (abs(-20)) # no negative numbers\n",
        "\n",
        "# see python 3 match functions documentation "
      ],
      "execution_count": 0,
      "outputs": [
        {
          "output_type": "stream",
          "text": [
            "4\n",
            "20\n"
          ],
          "name": "stdout"
        }
      ]
    },
    {
      "cell_type": "code",
      "metadata": {
        "id": "xX-sI0kPvNHq",
        "colab_type": "code",
        "outputId": "1fa74a16-708d-4614-89ff-1c25982eb78e",
        "colab": {
          "base_uri": "https://localhost:8080/",
          "height": 34
        }
      },
      "source": [
        "# OPERATOR PRECEDENCE\n",
        "# PEMDAS (Parentheses, Exponent and Power, Multiply, Division, Addition, Subtraction)\n",
        "print (20 - 3 * 2 + (2/2))"
      ],
      "execution_count": 0,
      "outputs": [
        {
          "output_type": "stream",
          "text": [
            "15.0\n"
          ],
          "name": "stdout"
        }
      ]
    },
    {
      "cell_type": "code",
      "metadata": {
        "id": "tVLUInAav97O",
        "colab_type": "code",
        "outputId": "a0b2f1ff-6d8b-44e8-a755-fb876a357fa8",
        "colab": {
          "base_uri": "https://localhost:8080/",
          "height": 51
        }
      },
      "source": [
        "# EXTRA DATA TYPE\n",
        "# complex number (instead of int and float)\n",
        "# real number \n",
        "# integers are saved as binary\n",
        "print (bin(5))\n",
        "\n",
        "#convert back\n",
        "\n",
        "int('0b101',2) #concert a base 2 number to int"
      ],
      "execution_count": 0,
      "outputs": [
        {
          "output_type": "stream",
          "text": [
            "0b101\n"
          ],
          "name": "stdout"
        },
        {
          "output_type": "execute_result",
          "data": {
            "text/plain": [
              "5"
            ]
          },
          "metadata": {
            "tags": []
          },
          "execution_count": 37
        }
      ]
    },
    {
      "cell_type": "code",
      "metadata": {
        "id": "kEYRrGMv9gQq",
        "colab_type": "code",
        "outputId": "35a44178-dae2-405a-aab3-90df366f72db",
        "colab": {
          "base_uri": "https://localhost:8080/",
          "height": 34
        }
      },
      "source": [
        "# VARIABLES\n",
        "\n",
        "# snake_case = underscore = private variables / start a letter\n",
        "#              case sensitive to access\n",
        "\n",
        "user_IQ = 190\n",
        "\n",
        "print (user_IQ)\n",
        "\n",
        "# Do not use python keywords / reserved words\n",
        "\n",
        "# or\n",
        "# not\n",
        "# etc - see dictionary"
      ],
      "execution_count": 0,
      "outputs": [
        {
          "output_type": "stream",
          "text": [
            "190\n"
          ],
          "name": "stdout"
        }
      ]
    },
    {
      "cell_type": "code",
      "metadata": {
        "id": "NklT_hlG_ux_",
        "colab_type": "code",
        "outputId": "b7114645-355f-4dc4-8c07-0210507a8b90",
        "colab": {
          "base_uri": "https://localhost:8080/",
          "height": 68
        }
      },
      "source": [
        "# CONSTANTS - value should never change\n",
        "PI = 3.14\n",
        "PI = 0\n",
        "\n",
        "# Dunder Variables = \"__\" should create a variable dunder\n",
        "# Be districtive and readble/understanble\n",
        "\n",
        "# Clean Code Book\n",
        "\n",
        "a,b,c = 1,2,3 #shorthand variable declaration\n",
        "\n",
        "print(a)\n",
        "print(b)\n",
        "print(c)\n",
        "\n",
        "# Expression vs Statements\n",
        "\n",
        "iq = 100 # entire line of code that performs action\n",
        "user_age = iq/5 #expression is code that produces a value "
      ],
      "execution_count": 0,
      "outputs": [
        {
          "output_type": "stream",
          "text": [
            "1\n",
            "2\n",
            "3\n"
          ],
          "name": "stdout"
        }
      ]
    },
    {
      "cell_type": "code",
      "metadata": {
        "id": "vcfVSZomBOIm",
        "colab_type": "code",
        "colab": {}
      },
      "source": [
        "# Augmented Assignment Operator - must have a previous values\n",
        "\n",
        "some_value = 5\n",
        "some_value = 5 + 2 \n",
        "some_value = some_value + 2\n",
        "\n",
        "# or can simple\n",
        "\n",
        "some_value += 6 # shorthand of some_value = some_value + 2"
      ],
      "execution_count": 0,
      "outputs": []
    },
    {
      "cell_type": "code",
      "metadata": {
        "id": "IXh0-iGTBxAz",
        "colab_type": "code",
        "outputId": "ce94670b-a7a1-48b9-e7e9-ba84565a959f",
        "colab": {
          "base_uri": "https://localhost:8080/",
          "height": 119
        }
      },
      "source": [
        "# STRINGS\n",
        "# \"\" / '' = characters\n",
        "# ''' = multiple lines\n",
        "# + concat\n",
        "\n",
        "username = \"supercoder\"\n",
        "password = 'supersecret'\n",
        "\n",
        "long_string = '''\n",
        "WOW\n",
        "0 0\n",
        "---\n",
        "'''\n",
        "\n",
        "print (long_string)\n",
        "\n",
        "first_name = \"Jevie \"\n",
        "last_name = 'Galaura'\n",
        "fullname = first_name + \" \" + last_name\n",
        "print (fullname)"
      ],
      "execution_count": 0,
      "outputs": [
        {
          "output_type": "stream",
          "text": [
            "\n",
            "WOW\n",
            "0 0\n",
            "---\n",
            "\n",
            "Jevie  Galaura\n"
          ],
          "name": "stdout"
        }
      ]
    },
    {
      "cell_type": "code",
      "metadata": {
        "id": "4Fj8GhwmDeRY",
        "colab_type": "code",
        "outputId": "3417208e-1e5a-4e28-97b9-426eaf4f25bc",
        "colab": {
          "base_uri": "https://localhost:8080/",
          "height": 34
        }
      },
      "source": [
        "# STRING CONCATENATION\n",
        "print('hello' + 'andre' + str(2)) #type casting\n",
        "\n",
        "# error\n",
        "# print ('hello' + 5) - error need to be in a quote the integer\n",
        "\n",
        "\n"
      ],
      "execution_count": 0,
      "outputs": [
        {
          "output_type": "stream",
          "text": [
            "helloandre2\n"
          ],
          "name": "stdout"
        }
      ]
    },
    {
      "cell_type": "code",
      "metadata": {
        "id": "U_u8yERHrJg_",
        "colab_type": "code",
        "colab": {}
      },
      "source": [
        "#  DEVELOPER FUNDAMENTALS (A)\n",
        "#  - tips and key things\n",
        "#  - efficient programer\n",
        "#  ----------------------\n",
        "#  1. Don't read the dictionary (you don't need all - methods/functions)\n",
        "#       Understand the concepts and can alwas google things.\n",
        "#       Only when you need it - cause it's a lot\n",
        "#       Use the languae to learn (20% more used all the time v 80% not used)\n",
        "#"
      ],
      "execution_count": 0,
      "outputs": []
    },
    {
      "cell_type": "code",
      "metadata": {
        "id": "aj8zpi8IC-wJ",
        "colab_type": "code",
        "outputId": "8d49ce0d-729d-4dcc-d137-22d38f17ad9b",
        "colab": {
          "base_uri": "https://localhost:8080/",
          "height": 51
        }
      },
      "source": [
        "print(type(str(100))) # type conversion - string\n",
        "print(type(int(100)))"
      ],
      "execution_count": 0,
      "outputs": [
        {
          "output_type": "stream",
          "text": [
            "<class 'str'>\n",
            "<class 'int'>\n"
          ],
          "name": "stdout"
        }
      ]
    },
    {
      "cell_type": "code",
      "metadata": {
        "id": "eLFUviaTDCS6",
        "colab_type": "code",
        "outputId": "fe705158-9c34-4420-a631-f607bb895d95",
        "colab": {
          "base_uri": "https://localhost:8080/",
          "height": 34
        }
      },
      "source": [
        "a = str(100)\n",
        "b = int(a)\n",
        "c = type(b) # convert to the type of b\n",
        "\n",
        "print(c)"
      ],
      "execution_count": 0,
      "outputs": [
        {
          "output_type": "stream",
          "text": [
            "<class 'int'>\n"
          ],
          "name": "stdout"
        }
      ]
    },
    {
      "cell_type": "code",
      "metadata": {
        "id": "uzDftE5zDeK4",
        "colab_type": "code",
        "colab": {}
      },
      "source": [
        "# ESCAPE SEQUENCES \"\\\\\" backslash , \"\\'\" aposthrope\n",
        "\n",
        "weather = 'It\\'s Sunny'  # error when adding aposthrope need to add \"\\'\""
      ],
      "execution_count": 0,
      "outputs": []
    },
    {
      "cell_type": "code",
      "metadata": {
        "id": "Bk-NYZFnGhT5",
        "colab_type": "code",
        "outputId": "4a66ecfe-3a3c-4328-a47b-a6d67d49a8f0",
        "colab": {
          "base_uri": "https://localhost:8080/",
          "height": 51
        }
      },
      "source": [
        "weather = \"It's kind of Sunny\"\n",
        "weather = \"It's \\t kind of \\n sunny\" # \\t = tab, \\n new line\n",
        "print (weather)"
      ],
      "execution_count": 0,
      "outputs": [
        {
          "output_type": "stream",
          "text": [
            "It's \t kind of \n",
            " sunny\n"
          ],
          "name": "stdout"
        }
      ]
    },
    {
      "cell_type": "code",
      "metadata": {
        "id": "mAPgd-SxGxpI",
        "colab_type": "code",
        "outputId": "b2b9c38b-5b05-45f3-f23b-df2e7a7d71e1",
        "colab": {
          "base_uri": "https://localhost:8080/",
          "height": 34
        }
      },
      "source": [
        "print (weather)"
      ],
      "execution_count": 0,
      "outputs": [
        {
          "output_type": "stream",
          "text": [
            "It's Sunny\n"
          ],
          "name": "stdout"
        }
      ]
    },
    {
      "cell_type": "code",
      "metadata": {
        "id": "YaYtuZALHAFf",
        "colab_type": "code",
        "outputId": "0c34b320-71aa-4371-c50d-e201a8cd5d12",
        "colab": {
          "base_uri": "https://localhost:8080/",
          "height": 51
        }
      },
      "source": [
        "# FORMATTED STRINGS\n",
        "\n",
        "name = 'Johnny'\n",
        "age = 55 # make sure to typecast if used\n",
        "\n",
        "# Print a name\n",
        "\n",
        "print(name)\n",
        "\n",
        "# Can add formatting with plus but not ideal\n",
        "\n",
        "print ('hi ' + name + 'your age is '+str(age))\n",
        "\n",
        "# "
      ],
      "execution_count": 3,
      "outputs": [
        {
          "output_type": "stream",
          "text": [
            "Johnny\n",
            "hi Johnnyyour age is 55\n"
          ],
          "name": "stdout"
        }
      ]
    },
    {
      "cell_type": "code",
      "metadata": {
        "id": "BlrYurHjHhey",
        "colab_type": "code",
        "colab": {
          "base_uri": "https://localhost:8080/",
          "height": 34
        },
        "outputId": "cedc3701-eb0b-4328-a7a7-d3bc2ba6fbaf"
      },
      "source": [
        "# Adding (f on string means string for python 3 no need to typecast\n",
        "\n",
        "# PYTHON 3 ONLY\n",
        "print (f'hi {name} your age is {age}') # must enclose variables in {}"
      ],
      "execution_count": 7,
      "outputs": [
        {
          "output_type": "stream",
          "text": [
            "hi Johnny your age is 55\n"
          ],
          "name": "stdout"
        }
      ]
    },
    {
      "cell_type": "code",
      "metadata": {
        "id": "J-aCvhkYI9GM",
        "colab_type": "code",
        "colab": {
          "base_uri": "https://localhost:8080/",
          "height": 51
        },
        "outputId": "696733df-43f2-4490-fac2-922ce96d938d"
      },
      "source": [
        "# OLD FORMATTING\n",
        "print('hi {}, you are {} years old'.format(name,age)) #should be in order and same number of index to avoid out of range error\n",
        "\n",
        "# or can do indexing\n",
        "print('hi {1}, you are {0} years old'.format(name,age)) #should be in order"
      ],
      "execution_count": 17,
      "outputs": [
        {
          "output_type": "stream",
          "text": [
            "hi Johnny, you are 55 years old\n",
            "hi 55, you are Johnny years old\n"
          ],
          "name": "stdout"
        }
      ]
    },
    {
      "cell_type": "code",
      "metadata": {
        "id": "_yIeNcCgJx-g",
        "colab_type": "code",
        "colab": {
          "base_uri": "https://localhost:8080/",
          "height": 34
        },
        "outputId": "c15ab06d-8412-4501-8d78-89dc23455e0e"
      },
      "source": [
        "# STRING INDEXES - stores as ordered sequences of characters\n",
        "# starts with 0\n",
        "\n",
        "#access a string based on index\n",
        "selfish = 'me me me me'\n",
        "\n",
        "print(selfish[1])\n"
      ],
      "execution_count": 19,
      "outputs": [
        {
          "output_type": "stream",
          "text": [
            "e\n"
          ],
          "name": "stdout"
        }
      ]
    },
    {
      "cell_type": "code",
      "metadata": {
        "id": "3FssyjqjMgmy",
        "colab_type": "code",
        "colab": {}
      },
      "source": [
        ""
      ],
      "execution_count": 0,
      "outputs": []
    }
  ]
}